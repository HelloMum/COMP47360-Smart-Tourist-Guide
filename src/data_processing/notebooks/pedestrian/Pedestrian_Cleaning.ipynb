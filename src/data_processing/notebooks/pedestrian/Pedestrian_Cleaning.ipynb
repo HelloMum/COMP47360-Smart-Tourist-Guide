{
 "cells": [
  {
   "cell_type": "markdown",
   "id": "1f6951e9",
   "metadata": {},
   "source": [
    "# (1) Pedestrian Dataset Cleaning\n",
    "Our overall plan in the data team, is to divide up the borough of manhattan into taxi zones and then from there, predict the busyness of each zone based on known factors. Therefore, the pedestrian trip data may enhance part of our investigations. \n"
   ]
  },
  {
   "cell_type": "code",
   "execution_count": 1,
   "id": "203225ba",
   "metadata": {},
   "outputs": [
    {
     "name": "stderr",
     "output_type": "stream",
     "text": [
      "C:\\Users\\natha\\anaconda3\\lib\\site-packages\\pandas\\core\\computation\\expressions.py:21: UserWarning: Pandas requires version '2.8.4' or newer of 'numexpr' (version '2.8.3' currently installed).\n",
      "  from pandas.core.computation.check import NUMEXPR_INSTALLED\n",
      "C:\\Users\\natha\\anaconda3\\lib\\site-packages\\pandas\\core\\arrays\\masked.py:60: UserWarning: Pandas requires version '1.3.6' or newer of 'bottleneck' (version '1.3.5' currently installed).\n",
      "  from pandas.core import (\n"
     ]
    }
   ],
   "source": [
    "import numpy as np\n",
    "import pandas as pd\n",
    "import pyarrow as pa\n",
    "import pyarrow.parquet as pq\n",
    "import matplotlib.pyplot as plt\n",
    "from IPython.display import display"
   ]
  },
  {
   "cell_type": "code",
   "execution_count": 26,
   "id": "1da9d5fe",
   "metadata": {},
   "outputs": [],
   "source": [
    "# read in data from csv file to pandas dataframe. \n",
    "df = pd.read_csv(\"PedCountLocations.csv\",  keep_default_na=True, delimiter=',', skipinitialspace=True)"
   ]
  },
  {
   "cell_type": "code",
   "execution_count": 27,
   "id": "98871f7d",
   "metadata": {},
   "outputs": [
    {
     "name": "stdout",
     "output_type": "stream",
     "text": [
      "Number of rows: 114, Number of columns: 104\n"
     ]
    }
   ],
   "source": [
    "# Check number of rows and columns\n",
    "num_rows, num_cols = df.shape\n",
    "print(f\"Number of rows: {num_rows}, Number of columns: {num_cols}\")"
   ]
  },
  {
   "cell_type": "code",
   "execution_count": 28,
   "id": "29671f92",
   "metadata": {},
   "outputs": [
    {
     "name": "stdout",
     "output_type": "stream",
     "text": [
      "\n",
      "First 5 rows:\n"
     ]
    },
    {
     "data": {
      "text/html": [
       "<div>\n",
       "<style scoped>\n",
       "    .dataframe tbody tr th:only-of-type {\n",
       "        vertical-align: middle;\n",
       "    }\n",
       "\n",
       "    .dataframe tbody tr th {\n",
       "        vertical-align: top;\n",
       "    }\n",
       "\n",
       "    .dataframe thead th {\n",
       "        text-align: right;\n",
       "    }\n",
       "</style>\n",
       "<table border=\"1\" class=\"dataframe\">\n",
       "  <thead>\n",
       "    <tr style=\"text-align: right;\">\n",
       "      <th></th>\n",
       "      <th>the_geom</th>\n",
       "      <th>OBJECTID</th>\n",
       "      <th>Location</th>\n",
       "      <th>Borough</th>\n",
       "      <th>Street_Nam</th>\n",
       "      <th>From_Stree</th>\n",
       "      <th>To_Street</th>\n",
       "      <th>Iex</th>\n",
       "      <th>May07_AM</th>\n",
       "      <th>May07_PM</th>\n",
       "      <th>...</th>\n",
       "      <th>May22_MD</th>\n",
       "      <th>Oct22_AM</th>\n",
       "      <th>Oct22_PM</th>\n",
       "      <th>Oct22_MD</th>\n",
       "      <th>May23_AM</th>\n",
       "      <th>May23_pM</th>\n",
       "      <th>May23_MD</th>\n",
       "      <th>Oct23_AM</th>\n",
       "      <th>Oct23_PM</th>\n",
       "      <th>Oct23_MD</th>\n",
       "    </tr>\n",
       "  </thead>\n",
       "  <tbody>\n",
       "    <tr>\n",
       "      <th>0</th>\n",
       "      <td>POINT (-73.90459140730678 40.87919896648575)</td>\n",
       "      <td>1</td>\n",
       "      <td>1</td>\n",
       "      <td>Bronx</td>\n",
       "      <td>Broadway</td>\n",
       "      <td>West 231st Street</td>\n",
       "      <td>Naples Terrace</td>\n",
       "      <td>N</td>\n",
       "      <td>1189.0</td>\n",
       "      <td>4094.0</td>\n",
       "      <td>...</td>\n",
       "      <td>1883.0</td>\n",
       "      <td>745.0</td>\n",
       "      <td>2637.0</td>\n",
       "      <td>2241.0</td>\n",
       "      <td>1897.0</td>\n",
       "      <td>5018.0</td>\n",
       "      <td>2496.0</td>\n",
       "      <td>935.0</td>\n",
       "      <td>3759.0</td>\n",
       "      <td>1745.0</td>\n",
       "    </tr>\n",
       "    <tr>\n",
       "      <th>1</th>\n",
       "      <td>POINT (-73.92188432870218 40.82662794123293)</td>\n",
       "      <td>2</td>\n",
       "      <td>2</td>\n",
       "      <td>Bronx</td>\n",
       "      <td>East 161st Street</td>\n",
       "      <td>Gra Concourse</td>\n",
       "      <td>Sheridan Avenue</td>\n",
       "      <td>Y</td>\n",
       "      <td>1511.0</td>\n",
       "      <td>3184.0</td>\n",
       "      <td>...</td>\n",
       "      <td>2168.0</td>\n",
       "      <td>2608.0</td>\n",
       "      <td>4277.0</td>\n",
       "      <td>1867.0</td>\n",
       "      <td>2384.0</td>\n",
       "      <td>4600.0</td>\n",
       "      <td>2064.0</td>\n",
       "      <td>2822.0</td>\n",
       "      <td>5050.0</td>\n",
       "      <td>1287.0</td>\n",
       "    </tr>\n",
       "    <tr>\n",
       "      <th>2</th>\n",
       "      <td>POINT (-73.89535781584335 40.86215460031517)</td>\n",
       "      <td>3</td>\n",
       "      <td>3</td>\n",
       "      <td>Bronx</td>\n",
       "      <td>East Fordham Road</td>\n",
       "      <td>Valentine Avenue</td>\n",
       "      <td>Tiebout Avenue</td>\n",
       "      <td>Y</td>\n",
       "      <td>1832.0</td>\n",
       "      <td>12311.0</td>\n",
       "      <td>...</td>\n",
       "      <td>4987.0</td>\n",
       "      <td>1662.0</td>\n",
       "      <td>6572.0</td>\n",
       "      <td>4765.0</td>\n",
       "      <td>1654.0</td>\n",
       "      <td>6918.0</td>\n",
       "      <td>4696.0</td>\n",
       "      <td>1560.0</td>\n",
       "      <td>6880.0</td>\n",
       "      <td>2453.0</td>\n",
       "    </tr>\n",
       "    <tr>\n",
       "      <th>3</th>\n",
       "      <td>POINT (-73.87892467324478 40.8812869959873)</td>\n",
       "      <td>4</td>\n",
       "      <td>4</td>\n",
       "      <td>Bronx</td>\n",
       "      <td>East Gun Hill Road</td>\n",
       "      <td>Bainbridge Avenue</td>\n",
       "      <td>Rochambeau Avenue</td>\n",
       "      <td>N</td>\n",
       "      <td>764.0</td>\n",
       "      <td>2673.0</td>\n",
       "      <td>...</td>\n",
       "      <td>1063.0</td>\n",
       "      <td>1448.0</td>\n",
       "      <td>2120.0</td>\n",
       "      <td>1032.0</td>\n",
       "      <td>1398.0</td>\n",
       "      <td>2280.0</td>\n",
       "      <td>1303.0</td>\n",
       "      <td>1404.0</td>\n",
       "      <td>2089.0</td>\n",
       "      <td>807.0</td>\n",
       "    </tr>\n",
       "    <tr>\n",
       "      <th>4</th>\n",
       "      <td>POINT (-73.88956389732787 40.844636776717685)</td>\n",
       "      <td>5</td>\n",
       "      <td>5</td>\n",
       "      <td>Bronx</td>\n",
       "      <td>East Tremont Avenue</td>\n",
       "      <td>Prospect Avenue</td>\n",
       "      <td>Clinton Avenue</td>\n",
       "      <td>N</td>\n",
       "      <td>650.0</td>\n",
       "      <td>2538.0</td>\n",
       "      <td>...</td>\n",
       "      <td>1606.0</td>\n",
       "      <td>774.0</td>\n",
       "      <td>2084.0</td>\n",
       "      <td>1611.0</td>\n",
       "      <td>730.0</td>\n",
       "      <td>2077.0</td>\n",
       "      <td>1578.0</td>\n",
       "      <td>786.0</td>\n",
       "      <td>2140.0</td>\n",
       "      <td>1115.0</td>\n",
       "    </tr>\n",
       "  </tbody>\n",
       "</table>\n",
       "<p>5 rows × 104 columns</p>\n",
       "</div>"
      ],
      "text/plain": [
       "                                        the_geom  OBJECTID  Location Borough  \\\n",
       "0   POINT (-73.90459140730678 40.87919896648575)         1         1   Bronx   \n",
       "1   POINT (-73.92188432870218 40.82662794123293)         2         2   Bronx   \n",
       "2   POINT (-73.89535781584335 40.86215460031517)         3         3   Bronx   \n",
       "3    POINT (-73.87892467324478 40.8812869959873)         4         4   Bronx   \n",
       "4  POINT (-73.88956389732787 40.844636776717685)         5         5   Bronx   \n",
       "\n",
       "            Street_Nam         From_Stree          To_Street Iex  May07_AM  \\\n",
       "0             Broadway  West 231st Street     Naples Terrace   N    1189.0   \n",
       "1    East 161st Street      Gra Concourse    Sheridan Avenue   Y    1511.0   \n",
       "2    East Fordham Road   Valentine Avenue     Tiebout Avenue   Y    1832.0   \n",
       "3   East Gun Hill Road  Bainbridge Avenue  Rochambeau Avenue   N     764.0   \n",
       "4  East Tremont Avenue    Prospect Avenue     Clinton Avenue   N     650.0   \n",
       "\n",
       "   May07_PM  ...  May22_MD  Oct22_AM  Oct22_PM  Oct22_MD  May23_AM  May23_pM  \\\n",
       "0    4094.0  ...    1883.0     745.0    2637.0    2241.0    1897.0    5018.0   \n",
       "1    3184.0  ...    2168.0    2608.0    4277.0    1867.0    2384.0    4600.0   \n",
       "2   12311.0  ...    4987.0    1662.0    6572.0    4765.0    1654.0    6918.0   \n",
       "3    2673.0  ...    1063.0    1448.0    2120.0    1032.0    1398.0    2280.0   \n",
       "4    2538.0  ...    1606.0     774.0    2084.0    1611.0     730.0    2077.0   \n",
       "\n",
       "   May23_MD  Oct23_AM  Oct23_PM  Oct23_MD  \n",
       "0    2496.0     935.0    3759.0    1745.0  \n",
       "1    2064.0    2822.0    5050.0    1287.0  \n",
       "2    4696.0    1560.0    6880.0    2453.0  \n",
       "3    1303.0    1404.0    2089.0     807.0  \n",
       "4    1578.0     786.0    2140.0    1115.0  \n",
       "\n",
       "[5 rows x 104 columns]"
      ]
     },
     "execution_count": 28,
     "metadata": {},
     "output_type": "execute_result"
    }
   ],
   "source": [
    "# Print the first and last 5 rows\n",
    "print(\"\\nFirst 5 rows:\")\n",
    "df.head()"
   ]
  },
  {
   "cell_type": "markdown",
   "id": "2e688a2c",
   "metadata": {},
   "source": [
    "# Format of CSV"
   ]
  },
  {
   "cell_type": "markdown",
   "id": "d0609a21",
   "metadata": {},
   "source": [
    "We can see that the 114 rows are indicating 114 different locations and the rows are 104 columns in length. We should reformat this to match our taxi dataset. "
   ]
  },
  {
   "cell_type": "code",
   "execution_count": null,
   "id": "ed7ee6db",
   "metadata": {},
   "outputs": [],
   "source": []
  }
 ],
 "metadata": {
  "kernelspec": {
   "display_name": "Python 3 (ipykernel)",
   "language": "python",
   "name": "python3"
  },
  "language_info": {
   "codemirror_mode": {
    "name": "ipython",
    "version": 3
   },
   "file_extension": ".py",
   "mimetype": "text/x-python",
   "name": "python",
   "nbconvert_exporter": "python",
   "pygments_lexer": "ipython3",
   "version": "3.9.13"
  }
 },
 "nbformat": 4,
 "nbformat_minor": 5
}
